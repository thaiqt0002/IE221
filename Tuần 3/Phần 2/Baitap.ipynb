{
  "nbformat": 4,
  "nbformat_minor": 0,
  "metadata": {
    "colab": {
      "provenance": []
    },
    "kernelspec": {
      "name": "python3",
      "display_name": "Python 3"
    },
    "language_info": {
      "name": "python"
    }
  },
  "cells": [
    {
      "cell_type": "markdown",
      "source": [
        "# **BÀI TẬP SYMPY**"
      ],
      "metadata": {
        "id": "Ap7zZkMCmhVm"
      }
    },
    {
      "cell_type": "markdown",
      "source": [
        "**Mỗi bài chọn 2 câu để làm, đề bài: Bài tập tuần 3 phần 2**"
      ],
      "metadata": {
        "id": "1PRXOC2knB9E"
      }
    },
    {
      "cell_type": "code",
      "execution_count": 3,
      "metadata": {
        "id": "j-EqVrFaNMbi"
      },
      "outputs": [],
      "source": [
        "import sympy as sp\n",
        "x, y = sp.symbols('x y')"
      ]
    },
    {
      "cell_type": "markdown",
      "source": [
        "## **Bài 1. Đại số**"
      ],
      "metadata": {
        "id": "6fyCwUKBQbTG"
      }
    },
    {
      "cell_type": "code",
      "source": [
        "##Bài 1.1\n",
        "\n",
        "#Câu a\n",
        "S1 = x**2 + 2*x + 5\n",
        "result = S1.subs(x, 5)\n",
        "print(\"a, \", result)\n",
        "\n",
        "#Câu b\n",
        "S2 = sp.sin(x)\n",
        "result2 = S2.subs(x,sp.pi)\n",
        "print(\"b, \", result2)"
      ],
      "metadata": {
        "colab": {
          "base_uri": "https://localhost:8080/"
        },
        "id": "EjLY4KNaNotk",
        "outputId": "95cf13aa-9901-4a34-d446-83a4b2944feb"
      },
      "execution_count": 8,
      "outputs": [
        {
          "output_type": "stream",
          "name": "stdout",
          "text": [
            "a,  40\n",
            "b,  0\n"
          ]
        }
      ]
    },
    {
      "cell_type": "code",
      "source": [
        "##Bài 1.2\n",
        "\n",
        "#Câu a\n",
        "A1 = sp.expand((x + y)**3)\n",
        "print(\"a, \", A1)\n",
        "\n",
        "#Câu b\n",
        "A2 = sp.expand((x+2)*(x-3))\n",
        "print(\"b, \", A2)"
      ],
      "metadata": {
        "colab": {
          "base_uri": "https://localhost:8080/"
        },
        "id": "TSt4gCYtPYDD",
        "outputId": "282bf6f8-d2b2-4fe4-859a-b73e7f315760"
      },
      "execution_count": 9,
      "outputs": [
        {
          "output_type": "stream",
          "name": "stdout",
          "text": [
            "a,  x**3 + 3*x**2*y + 3*x*y**2 + y**3\n",
            "b,  x**2 - x - 6\n"
          ]
        }
      ]
    },
    {
      "cell_type": "code",
      "source": [
        "##Bài 1.3\n",
        "\n",
        "#Câu a\n",
        "B1 = x**3 - 6*x**2*y + 12*x*y**2 - 8*y**3\n",
        "B1 = sp.factor(B1)\n",
        "print(\"a, \", B1)\n",
        "\n",
        "#Câu b\n",
        "B2 = 4*x**2 - 3*x - 6*y + 8*x**3\n",
        "B2 = sp.factor(B2)\n",
        "print(\"b, \", B2)"
      ],
      "metadata": {
        "colab": {
          "base_uri": "https://localhost:8080/"
        },
        "id": "tu1NZqxwQYAS",
        "outputId": "059fb9c0-322f-4df2-b2ef-262b32f3b75b"
      },
      "execution_count": 12,
      "outputs": [
        {
          "output_type": "stream",
          "name": "stdout",
          "text": [
            "a,  (x - 2*y)**3\n",
            "b,  8*x**3 + 4*x**2 - 3*x - 6*y\n"
          ]
        }
      ]
    },
    {
      "cell_type": "code",
      "source": [
        "##Bài 1.4\n",
        "\n",
        "#Câu a\n",
        "A = (x**2 - x - 2) * sp.sqrt(x + 1)\n",
        "A = sp.solve(A, x)\n",
        "print(\"a, \", A)\n",
        "\n",
        "#Câu b\n",
        "B = sp.sqrt((x-3)**2*(5-3*x)) + 2*x - sp.sqrt(3*x-5) - 4\n",
        "B = sp.solve(B,x)\n",
        "print(\"b, \", B)"
      ],
      "metadata": {
        "colab": {
          "base_uri": "https://localhost:8080/"
        },
        "id": "Dir0CGt1RlcL",
        "outputId": "4800fbff-3327-4c81-e12a-257f0e3eeb90"
      },
      "execution_count": 17,
      "outputs": [
        {
          "output_type": "stream",
          "name": "stdout",
          "text": [
            "a,  [-1, 2]\n",
            "b,  [3]\n"
          ]
        }
      ]
    },
    {
      "cell_type": "code",
      "source": [
        "##Bài 1.5\n",
        "\n",
        "#Câu a\n",
        "a = 1 / (2 - 3j)\n",
        "print('Câu a, ')\n",
        "print(\"Phần thực:\", sp.re(a))\n",
        "print(\"Phần ảo:\", sp.im(a))\n",
        "print(\"Rút gọn:\", sp.simplify(a))\n",
        "\n",
        "print('')\n",
        "\n",
        "#Câu b\n",
        "b = 1j*(2-1j)*(3+1j)\n",
        "print('Câu b,')\n",
        "print(\"Phần thực:\", sp.re(b))\n",
        "print(\"Phần ảo:\", sp.im(b))\n",
        "print(\"Rút gọn:\", sp.simplify(b))"
      ],
      "metadata": {
        "colab": {
          "base_uri": "https://localhost:8080/"
        },
        "id": "l3KxnXZnS8jd",
        "outputId": "ffd1ddb9-fd3e-4dd3-f3ce-26a58dcdfa24"
      },
      "execution_count": 26,
      "outputs": [
        {
          "output_type": "stream",
          "name": "stdout",
          "text": [
            "Câu a, \n",
            "Phần thực: 0.153846153846154\n",
            "Phần ảo: 0.230769230769231\n",
            "Rút gọn: 0.153846153846154 + 0.230769230769231*I\n",
            "\n",
            "Câu b,\n",
            "Phần thực: 1.00000000000000\n",
            "Phần ảo: 7.00000000000000\n",
            "Rút gọn: 1.0 + 7.0*I\n"
          ]
        }
      ]
    },
    {
      "cell_type": "code",
      "source": [
        "##Bài 1.6\n",
        "\n",
        "a = True\n",
        "b = False\n",
        "c = True\n",
        "d = True\n",
        "e = False\n",
        "\n",
        "#Câu c\n",
        "A = sp.Xor(a, b, c, d, e)\n",
        "print(\"c, \", A)\n",
        "\n",
        "#Câu f\n",
        "B = sp.Not(sp.And(sp.Or(a, b), c)) or sp.And(d, e)\n",
        "print(\"f, \", B)"
      ],
      "metadata": {
        "colab": {
          "base_uri": "https://localhost:8080/"
        },
        "id": "xkfLtP3wU7Hq",
        "outputId": "aee7cbc1-56f1-4499-c5e8-84611cfc1940"
      },
      "execution_count": 37,
      "outputs": [
        {
          "output_type": "stream",
          "name": "stdout",
          "text": [
            "c,  True\n",
            "f,  False\n"
          ]
        }
      ]
    },
    {
      "cell_type": "markdown",
      "source": [
        "## **Bài 2: Giải tích**"
      ],
      "metadata": {
        "id": "N4afb5EmaBze"
      }
    },
    {
      "cell_type": "code",
      "source": [
        "##Bài 2.1\n",
        "\n",
        "#Câu a\n",
        "L1 = (x**3 - sp.cos(x) + 1)/(x**4 + x**2)\n",
        "L1 = sp.limit(L1, x, 0)\n",
        "print(\"a, \", L1)\n",
        "\n",
        "#Câu b\n",
        "L2 = sp.log(1 - 2*x*sp.sin(x)**2) / (sp.sin(x**2) * sp.tan(x))\n",
        "L2 = sp.limit(L2,x,0)\n",
        "print(\"b, \", L2)"
      ],
      "metadata": {
        "colab": {
          "base_uri": "https://localhost:8080/"
        },
        "id": "Pq2hgq-DZ-mf",
        "outputId": "1c4d3659-24b4-451d-f8fc-c7f1a5ad33bc"
      },
      "execution_count": 33,
      "outputs": [
        {
          "output_type": "stream",
          "name": "stdout",
          "text": [
            "a,  1/2\n",
            "b,  -2\n"
          ]
        }
      ]
    },
    {
      "cell_type": "code",
      "source": [
        "##Bài 2.2\n",
        "\n",
        "#Câu b\n",
        "F2 = sp.sqrt(1 + x**2)\n",
        "F2 = sp.diff(F2, x)\n",
        "print(\"b, \", F2)\n",
        "\n",
        "#Câu d\n",
        "F4 = (2*x + 3) + sp.cos(x)\n",
        "F4 = sp.diff(F4, x)\n",
        "print(\"d, \",F4)"
      ],
      "metadata": {
        "colab": {
          "base_uri": "https://localhost:8080/"
        },
        "id": "CpP7x4zVcxbx",
        "outputId": "ec23a4ba-2021-41c2-e295-8d27c60de5d7"
      },
      "execution_count": 36,
      "outputs": [
        {
          "output_type": "stream",
          "name": "stdout",
          "text": [
            "x/sqrt(x**2 + 1)\n",
            "2 - sin(x)\n"
          ]
        }
      ]
    },
    {
      "cell_type": "code",
      "source": [
        "##Bài 2.3\n",
        "\n",
        "#Câu a\n",
        "I1 = x**2 + x + 1\n",
        "I1 = sp.integrate(I1, x)\n",
        "print(\"a, \", I1)\n",
        "\n",
        "#Câu b\n",
        "I2 = sp.sin(x)*sp.tan(x)\n",
        "I2 = sp.integrate(I2,x)\n",
        "print(\"b, \", I2)"
      ],
      "metadata": {
        "colab": {
          "base_uri": "https://localhost:8080/"
        },
        "id": "PAgjQNkLkIRm",
        "outputId": "c2383084-7141-4905-a972-4b1cc1c6afa6"
      },
      "execution_count": 39,
      "outputs": [
        {
          "output_type": "stream",
          "name": "stdout",
          "text": [
            "a,  x**3/3 + x**2/2 + x\n",
            "b,  -log(sin(x) - 1)/2 + log(sin(x) + 1)/2 - sin(x)\n"
          ]
        }
      ]
    },
    {
      "cell_type": "code",
      "source": [
        "##Bài 2.4\n",
        "\n",
        "#Câu b\n",
        "I2 = x*sp.cos(x)\n",
        "I2 = sp.integrate(I2,(x,0,sp.pi))\n",
        "print(\"b, \", I2)\n",
        "\n",
        "#Câu c\n",
        "I3 = sp.sqrt(x**2+1)\n",
        "I3 = sp.integrate(I3,(x,-1,1))\n",
        "print(\"c, \", I3)"
      ],
      "metadata": {
        "colab": {
          "base_uri": "https://localhost:8080/"
        },
        "id": "jiVJNcmXk3M_",
        "outputId": "ed53438b-8a6b-4fa7-d5d2-5213f614c90e"
      },
      "execution_count": 43,
      "outputs": [
        {
          "output_type": "stream",
          "name": "stdout",
          "text": [
            "b,  -2\n",
            "c,  log(1 + sqrt(2))/2 - log(-1 + sqrt(2))/2 + sqrt(2)\n"
          ]
        }
      ]
    },
    {
      "cell_type": "code",
      "source": [
        "##Bài 2.5\n",
        "\n",
        "y = sp.Function('y')(x)\n",
        "\n",
        "#Câu b\n",
        "eq1 = sp.Eq(y.diff(x), 2 * x * sp.sqrt(y))\n",
        "slt1 = sp.dsolve(eq1, y)\n",
        "print(\"b, y =\", slt1.rhs)\n",
        "\n",
        "#Câu c\n",
        "eq2 = sp.Eq(y.diff(x), 3*y - x + 6*x**2)\n",
        "slt2 = sp.dsolve(eq2, y)\n",
        "print(\"c, y =\", slt2.rhs)"
      ],
      "metadata": {
        "colab": {
          "base_uri": "https://localhost:8080/"
        },
        "id": "AcCH3ZnJltC-",
        "outputId": "f1190a89-43d0-4b87-fe8a-c4155ad947c4"
      },
      "execution_count": 49,
      "outputs": [
        {
          "output_type": "stream",
          "name": "stdout",
          "text": [
            "b, y = C1**2/4 + C1*x**2/2 + x**4/4\n",
            "c, y = C1*exp(3*x) - 2*x**2 - x - 1/3\n"
          ]
        }
      ]
    },
    {
      "cell_type": "markdown",
      "source": [
        "## **Bài 3: Hình học**"
      ],
      "metadata": {
        "id": "vLBHyurQsJJd"
      }
    },
    {
      "cell_type": "code",
      "source": [
        "#Câu a\n",
        "T1 = sp.sin(x) / sp.cos(x)\n",
        "T1 = sp.simplify(T1)\n",
        "print(\"a, \", T1)\n",
        "\n",
        "#Câu b\n",
        "T2 = sp.tan(x) * sp.cos(x)\n",
        "T2 = sp.simplify(T2)\n",
        "print(\"b, \", T2)\n",
        "\n",
        "#Câu c\n",
        "T3 = (sp.tan(x)**2 +1) * (1+sp.cot(x)**2)\n",
        "T3 = sp.simplify(T3)\n",
        "print(\"c, \", T3)\n",
        "\n",
        "#Câu d\n",
        "T4 = sp.sin(x)**2 + sp.cos(x)**2\n",
        "T4 = sp.simplify(T4)\n",
        "print(\"d, \", T4)\n",
        "\n",
        "#Câu e\n",
        "T5 = sp.sin(4*x)*sp.sin(10*x) - sp.sin(11*x)*sp.sin(3*x) - sp.sin(7*x)*sp.sin(x)\n",
        "T5 = sp.simplify(T5)\n",
        "print(\"e, \", T5)"
      ],
      "metadata": {
        "colab": {
          "base_uri": "https://localhost:8080/"
        },
        "id": "wi7ZiYvlsPL8",
        "outputId": "4a2cee5b-bebf-46ec-b51c-078e7bd62b96"
      },
      "execution_count": 58,
      "outputs": [
        {
          "output_type": "stream",
          "name": "stdout",
          "text": [
            "a,  tan(x)\n",
            "b,  sin(x)\n",
            "c,  8/(1 - cos(4*x))\n",
            "d,  1\n",
            "e,  0\n"
          ]
        }
      ]
    }
  ]
}